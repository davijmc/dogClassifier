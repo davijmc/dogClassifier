{
 "cells": [
  {
   "cell_type": "code",
   "execution_count": 20,
   "metadata": {},
   "outputs": [],
   "source": [
    "# Generate .json with dogs height and weight and health status\n",
    "# Health status is calculated using the Body Mass Index (BMI) formula and will be improved in the future\n",
    "import json\n",
    "import random\n",
    "\n",
    "# Class Dog\n",
    "class Dog:\n",
    "    def __init__(self, size, height, weight, health):\n",
    "        self.size = size\n",
    "        self.height = height\n",
    "        self.weight = weight\n",
    "        self.health = health\n",
    "\n",
    "    def to_dict(self):\n",
    "        return {\n",
    "            'size': self.size,\n",
    "            'height': self.height,\n",
    "            'weight': self.weight,\n",
    "            'health': self.health\n",
    "        }\n",
    "\n",
    "# List of dogs\n",
    "dogs = []\n",
    "\n",
    "# Generate dogs x times\n",
    "def genDogs(x,name):\n",
    "    # Small dog\n",
    "    for i in range(0, x):\n",
    "        size = 'small'\n",
    "        weight = random.randint(1000, 15000)  # weight in grams\n",
    "        height = random.randint(5, 36)  # height in cm\n",
    "        hgt = height / 100\n",
    "        hFactor = (weight / 1000) / (hgt * hgt)\n",
    "        if hFactor < 18.5:\n",
    "            health = 'low'\n",
    "        elif 18.5 <= hFactor < 25:\n",
    "            health = 'regular'\n",
    "        else:\n",
    "            health = 'bad'\n",
    "        dogs.append(Dog(size, height, weight, health).to_dict())  # Convert to dict\n",
    "\n",
    "    # Medium dog\n",
    "    for i in range(0, x):\n",
    "        size = 'medium'\n",
    "        weight = random.randint(10000, 25000)  # weight in grams\n",
    "        height = random.randint(37, 49)  # height in cm\n",
    "        hgt = height / 100\n",
    "        hFactor = (weight / 1000) / (hgt * hgt)\n",
    "        if hFactor < 18.5:\n",
    "            health = 'low'\n",
    "        elif 18.5 <= hFactor < 25:\n",
    "            health = 'regular'\n",
    "        else:\n",
    "            health = 'bad'\n",
    "        dogs.append(Dog(size, height, weight, health).to_dict())\n",
    "\n",
    "    # Big dog\n",
    "    for i in range(0, x):\n",
    "        size = 'big'\n",
    "        weight = random.randint(25000, 50000)  # weight in grams\n",
    "        height = random.randint(50, 100)  # height in cm\n",
    "        hgt = height / 100\n",
    "        hFactor = (weight / 1000) / (hgt * hgt)\n",
    "        if hFactor < 18.5:\n",
    "            health = 'low'\n",
    "        elif 18.5 <= hFactor < 25:\n",
    "            health = 'regular'\n",
    "        else:\n",
    "            health = 'bad'\n",
    "        dogs.append(Dog(size, height, weight, health).to_dict())\n",
    "\n",
    "    # Save dogs in .json\n",
    "    with open(name+'.json', 'w') as f:\n",
    "        json.dump(dogs, f, indent=4)\n"
   ]
  },
  {
   "cell_type": "code",
   "execution_count": 21,
   "metadata": {},
   "outputs": [],
   "source": [
    "# Generate x dogs\n",
    "x = input('How many dogs do you want to generate? ')\n",
    "genDogs(int(x),\"dogs\")"
   ]
  },
  {
   "cell_type": "code",
   "execution_count": 22,
   "metadata": {},
   "outputs": [],
   "source": [
    "# Generate 1000 dogs\n",
    "genDogs(1000,\"dogs\")"
   ]
  },
  {
   "cell_type": "code",
   "execution_count": 23,
   "metadata": {},
   "outputs": [],
   "source": [
    "# KNN algorithm to predict the health status of a dog\n",
    "from sklearn.neighbors import KNeighborsClassifier\n",
    "import numpy as np\n",
    "\n",
    "dogs = []\n",
    "\n",
    "# Load the data\n",
    "with open('dogs.json', 'r') as f:\n",
    "    dogs = json.load(f)\n",
    "\n",
    "# Prepare the data\n",
    "X = np.array([[dog['height'], dog['weight']] for dog in dogs])\n",
    "y = np.array([dog['size'] for dog in dogs])\n",
    "\n",
    "# Train the KNN model\n",
    "knn = KNeighborsClassifier(n_neighbors=3)\n",
    "knn.fit(X, y)\n",
    "\n",
    "# Function to predict the class of a new dog\n",
    "def predict_dog_class(height, weight):\n",
    "    prediction = knn.predict([[height, weight]])\n",
    "    return prediction[0]"
   ]
  },
  {
   "cell_type": "code",
   "execution_count": 24,
   "metadata": {},
   "outputs": [
    {
     "name": "stdout",
     "output_type": "stream",
     "text": [
      "The predicted size status of the dog is: small\n"
     ]
    }
   ],
   "source": [
    "# User input\n",
    "new_height = int(input(\"Enter the dog's height (in cm): \"))\n",
    "new_weight = int(input(\"Enter the dog's weight (in grams): \"))\n",
    "\n",
    "# Predict and print the class\n",
    "predicted_class = predict_dog_class(new_height, new_weight)\n",
    "print(f'The predicted size status of the dog is: {predicted_class}')"
   ]
  },
  {
   "cell_type": "code",
   "execution_count": 25,
   "metadata": {},
   "outputs": [
    {
     "name": "stdout",
     "output_type": "stream",
     "text": [
      "The accuracy of the model is: 98.69%\n"
     ]
    }
   ],
   "source": [
    "# Test the model\n",
    "genDogs(1000,\"test\")\n",
    "\n",
    "# Load test files\n",
    "with open('test.json', 'r') as f:\n",
    "    dogs_test = json.load(f)\n",
    "\n",
    "# Prepare the data\n",
    "x_test = np.array([[dog['height'], dog['weight']] for dog in dogs_test])\n",
    "y_test = np.array([dog['size'] for dog in dogs_test])\n",
    "\n",
    "# Predict the test data\n",
    "y_pred = knn.predict(x_test)\n",
    "\n",
    "# Calculate the accuracy\n",
    "accuracy = np.mean(y_pred == y_test) * 100  # accuracy in percentage\n",
    "\n",
    "print(f'The accuracy of the model is: {accuracy:.2f}%')"
   ]
  }
 ],
 "metadata": {
  "kernelspec": {
   "display_name": ".venv",
   "language": "python",
   "name": "python3"
  },
  "language_info": {
   "codemirror_mode": {
    "name": "ipython",
    "version": 3
   },
   "file_extension": ".py",
   "mimetype": "text/x-python",
   "name": "python",
   "nbconvert_exporter": "python",
   "pygments_lexer": "ipython3",
   "version": "3.12.6"
  }
 },
 "nbformat": 4,
 "nbformat_minor": 2
}
